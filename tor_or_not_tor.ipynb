{
  "nbformat": 4,
  "nbformat_minor": 0,
  "metadata": {
    "accelerator": "GPU",
    "colab": {
      "name": "tor_or_not_tor.ipynb",
      "provenance": [],
      "collapsed_sections": []
    },
    "kernelspec": {
      "display_name": "Python 3",
      "name": "python3"
    }
  },
  "cells": [
    {
      "cell_type": "code",
      "metadata": {
        "colab": {
          "base_uri": "https://localhost:8080/"
        },
        "id": "CQ1XyjAk9NrT",
        "outputId": "1dd00a2c-667c-4af3-91e9-7dfc2d87282d"
      },
      "source": [
        "from __future__ import absolute_import, division, print_function\r\n",
        "\r\n",
        "import pandas as pd\r\n",
        "import numpy as np\r\n",
        "import torch\r\n",
        "\r\n",
        "# Load the Drive helper and mount\r\n",
        "from google.colab import drive\r\n",
        "\r\n",
        "\r\n",
        "drive.mount('/content/drive', force_remount=True)"
      ],
      "execution_count": 1,
      "outputs": [
        {
          "output_type": "stream",
          "text": [
            "Mounted at /content/drive\n"
          ],
          "name": "stdout"
        }
      ]
    },
    {
      "cell_type": "code",
      "metadata": {
        "id": "myLclvDmAttC"
      },
      "source": [
        "dataframe = pd.read_csv('./drive/MyDrive/security_data/CSV/Scenario-A/SelectedFeatures-10s-TOR-NonTOR.csv')"
      ],
      "execution_count": 3,
      "outputs": []
    },
    {
      "cell_type": "code",
      "metadata": {
        "id": "J0Ykkm94bpqE"
      },
      "source": [
        "df = dataframe.drop(columns=['Source IP', ' Destination IP', 'Active Mean', ' Active Std', ' Active Max', ' Active Min', 'Idle Mean', ' Idle Std', ' Idle Max', ' Idle Min'])"
      ],
      "execution_count": 4,
      "outputs": []
    },
    {
      "cell_type": "code",
      "metadata": {
        "id": "a5-tKBaIlqbY"
      },
      "source": [
        "def label_transfer(d):\r\n",
        "  if d == 'TOR':\r\n",
        "    return 1\r\n",
        "  else:\r\n",
        "    return 0\r\n",
        "\r\n",
        "df.label = df.label.apply(lambda x: label_transfer(x))\r\n",
        "\r\n",
        "df = df.replace([np.inf, -np.inf], np.nan)\r\n",
        "\r\n",
        "df = df.dropna()"
      ],
      "execution_count": 5,
      "outputs": []
    },
    {
      "cell_type": "code",
      "metadata": {
        "id": "lrGxhfzkm3Bw"
      },
      "source": [
        "from sklearn.model_selection import train_test_split\r\n",
        "from sklearn.preprocessing import StandardScaler\r\n",
        "\r\n",
        "scaler = StandardScaler()\r\n",
        "\r\n",
        "train, test = train_test_split(df, test_size=0.2)\r\n",
        "\r\n",
        "train_x = train.values[:, :17] #returns a numpy array\r\n",
        "train_y = train.label.to_numpy()\r\n",
        "train_x = scaler.fit_transform(train_x)\r\n",
        "\r\n",
        "test_x = test.values[:, :17] #returns a numpy array\r\n",
        "test_y = test.label.to_numpy()\r\n",
        "test_x = scaler.fit_transform(test_x)\r\n"
      ],
      "execution_count": 6,
      "outputs": []
    },
    {
      "cell_type": "code",
      "metadata": {
        "id": "StwVDFH5TrE-"
      },
      "source": [
        "train_X = torch.from_numpy(train_x).type(torch.FloatTensor)\r\n",
        "train_Y = torch.from_numpy(train_y).type(torch.LongTensor)\r\n",
        "\r\n",
        "test_X = torch.from_numpy(test_x).type(torch.FloatTensor)\r\n",
        "test_Y = torch.from_numpy(test_y).type(torch.LongTensor)"
      ],
      "execution_count": 7,
      "outputs": []
    },
    {
      "cell_type": "code",
      "metadata": {
        "id": "cD3-DhC3fRlR"
      },
      "source": [
        "import torch.nn as nn\n",
        "import torch.nn.functional as F\n",
        "\n",
        "class NaiveClassifier(nn.Module):\n",
        "  def __init__(self, dropout=0.1):\n",
        "    super(NaiveClassifier,self).__init__()\n",
        "    #Our network consists of 3 layers. 1 input, 1 hidden and 1 output layer\n",
        "    #This applies Linear transformation to input data. \n",
        "    HIDDEN_SIZE = 128\n",
        "    self.fc1 = nn.Linear(17,HIDDEN_SIZE)\n",
        "    self.fc2 = nn.Linear(HIDDEN_SIZE,int(HIDDEN_SIZE))\n",
        "    self.fc3 = nn.Linear(int(HIDDEN_SIZE),int(HIDDEN_SIZE))\n",
        "    self.fc4 = nn.Linear(int(HIDDEN_SIZE),int(HIDDEN_SIZE))\n",
        "    self.fc5 = nn.Linear(int(HIDDEN_SIZE),int(HIDDEN_SIZE))\n",
        "    self.fc6 = nn.Linear(int(HIDDEN_SIZE),int(HIDDEN_SIZE/8))\n",
        "    #This applies linear transformation to produce output data\n",
        "    self.fc7 = nn.Linear(int(HIDDEN_SIZE/8), 2)\n",
        "\n",
        "  def forward(self,x):\n",
        "    #Output of the first layer\n",
        "    x = F.relu(self.fc1(x))\n",
        "    x = F.relu(self.fc2(x))\n",
        "    x = F.relu(self.fc3(x))\n",
        "    x = F.relu(self.fc4(x))\n",
        "    x = F.relu(self.fc5(x))\n",
        "    x = F.relu(self.fc6(x))\n",
        "    #This produces output\n",
        "    x = self.fc7(x)\n",
        "    return x\n",
        "        \n",
        "    #This function takes an input and predicts the class, (0 or 1)        \n",
        "  def predict(self,x):\n",
        "    #Apply sigmoid to output. \n",
        "    pred = F.sigmoid(self.forward(x))\n",
        "    ans = []\n",
        "    #Pick the class with maximum weight\n",
        "    for t in pred:\n",
        "      if t[0]>t[1]:\n",
        "          ans.append(0)\n",
        "      else:\n",
        "          ans.append(1)\n",
        "    return torch.tensor(ans)"
      ],
      "execution_count": 8,
      "outputs": []
    },
    {
      "cell_type": "code",
      "metadata": {
        "id": "EdZsbnu6goJm"
      },
      "source": [
        "import torch.optim\r\n",
        "\r\n",
        "#Initialize the model        \r\n",
        "model = NaiveClassifier()\r\n",
        "#Define loss criterion\r\n",
        "criterion = nn.CrossEntropyLoss()\r\n",
        "#Define the optimizer\r\n",
        "optimizer = torch.optim.Adam(model.parameters(), lr=0.001)"
      ],
      "execution_count": 9,
      "outputs": []
    },
    {
      "cell_type": "code",
      "metadata": {
        "id": "IuRpR_gvgsJj",
        "colab": {
          "base_uri": "https://localhost:8080/"
        },
        "outputId": "e9f0f25a-e263-471d-b2f2-4c988d7c429b"
      },
      "source": [
        "#Number of epochs\r\n",
        "epochs = 250\r\n",
        "#List to store losses\r\n",
        "losses = []\r\n",
        "test_losses = []\r\n",
        "for i in range(epochs):\r\n",
        "  #Precit the output for Given input\r\n",
        "  train_y_pred = model.forward(train_X)\r\n",
        "  test_y_pred = model.forward(test_X)\r\n",
        "  #Compute Cross entropy loss\r\n",
        "  loss = criterion(train_y_pred, train_Y)\r\n",
        "  test_lost = criterion(test_y_pred, test_Y)\r\n",
        "  #Add loss to the list\r\n",
        "  losses.append(loss.item())\r\n",
        "  test_losses.append(test_lost.item())\r\n",
        "  #Clear the previous gradients\r\n",
        "  optimizer.zero_grad()\r\n",
        "  #Compute gradients\r\n",
        "  loss.backward()\r\n",
        "  #Adjust weights\r\n",
        "  optimizer.step()\r\n",
        "\r\n",
        "  if (i % 21 == 0):\r\n",
        "    print(i, loss.data, test_lost.data)"
      ],
      "execution_count": 10,
      "outputs": [
        {
          "output_type": "stream",
          "text": [
            "0 tensor(0.6700) tensor(0.6698)\n",
            "21 tensor(0.2790) tensor(0.2774)\n",
            "42 tensor(0.1780) tensor(0.1772)\n",
            "63 tensor(0.1553) tensor(0.1569)\n",
            "84 tensor(0.1213) tensor(0.1264)\n",
            "105 tensor(0.1014) tensor(0.1069)\n",
            "126 tensor(0.0896) tensor(0.0954)\n",
            "147 tensor(0.0773) tensor(0.0843)\n",
            "168 tensor(0.0848) tensor(0.0918)\n",
            "189 tensor(0.0717) tensor(0.0778)\n",
            "210 tensor(0.0626) tensor(0.0727)\n",
            "231 tensor(0.0570) tensor(0.0698)\n"
          ],
          "name": "stdout"
        }
      ]
    },
    {
      "cell_type": "code",
      "metadata": {
        "colab": {
          "base_uri": "https://localhost:8080/"
        },
        "id": "JV_8t3Ssgzq1",
        "outputId": "c6a0ed55-530c-4e3f-c030-1dd755308e8b"
      },
      "source": [
        "from sklearn import metrics\r\n",
        "print(metrics.accuracy_score(model.predict(test_X),test_Y))\r\n",
        "print(metrics.precision_score(model.predict(test_X),test_Y))\r\n",
        "print(metrics.recall_score(model.predict(test_X),test_Y))\r\n",
        "print(metrics.classification_report(model.predict(test_X), test_Y))"
      ],
      "execution_count": 12,
      "outputs": [
        {
          "output_type": "stream",
          "text": [
            "/usr/local/lib/python3.6/dist-packages/torch/nn/functional.py:1639: UserWarning: nn.functional.sigmoid is deprecated. Use torch.sigmoid instead.\n",
            "  warnings.warn(\"nn.functional.sigmoid is deprecated. Use torch.sigmoid instead.\")\n"
          ],
          "name": "stderr"
        },
        {
          "output_type": "stream",
          "text": [
            "0.9752321981424149\n",
            "0.8630050505050505\n",
            "0.9199192462987887\n",
            "              precision    recall  f1-score   support\n",
            "\n",
            "           0       0.99      0.98      0.99     12080\n",
            "           1       0.86      0.92      0.89      1486\n",
            "\n",
            "    accuracy                           0.98     13566\n",
            "   macro avg       0.93      0.95      0.94     13566\n",
            "weighted avg       0.98      0.98      0.98     13566\n",
            "\n"
          ],
          "name": "stdout"
        }
      ]
    },
    {
      "cell_type": "code",
      "metadata": {
        "colab": {
          "base_uri": "https://localhost:8080/",
          "height": 269
        },
        "id": "2aR--QFZLC5c",
        "outputId": "e17ba0d2-7dfa-4d97-b366-4bb5b0e043ae"
      },
      "source": [
        "import matplotlib.pyplot as plt\r\n",
        "%matplotlib inline\r\n",
        "plt.plot(losses)\r\n",
        "plt.plot(test_losses)\r\n",
        "plt.show()"
      ],
      "execution_count": 14,
      "outputs": [
        {
          "output_type": "display_data",
          "data": {
            "image/png": "[encoded data removed]",
            "text/plain": [
              "<Figure size 432x288 with 1 Axes>"
            ]
          },
          "metadata": {
            "tags": [],
            "needs_background": "light"
          }
        }
      ]
    },
    {
      "cell_type": "code",
      "metadata": {
        "colab": {
          "base_uri": "https://localhost:8080/",
          "height": 315
        },
        "id": "bXRYuvmYiDjV",
        "outputId": "5e73904e-ad98-48cc-f70f-6256875b7460"
      },
      "source": [
        "import seaborn as sns\r\n",
        "from sklearn.metrics import confusion_matrix\r\n",
        "\r\n",
        "cm = confusion_matrix(test_Y, model.predict(test_X))\r\n",
        "sns.heatmap(cm, annot=True)"
      ],
      "execution_count": 15,
      "outputs": [
        {
          "output_type": "stream",
          "text": [
            "/usr/local/lib/python3.6/dist-packages/torch/nn/functional.py:1639: UserWarning: nn.functional.sigmoid is deprecated. Use torch.sigmoid instead.\n",
            "  warnings.warn(\"nn.functional.sigmoid is deprecated. Use torch.sigmoid instead.\")\n"
          ],
          "name": "stderr"
        },
        {
          "output_type": "execute_result",
          "data": {
            "text/plain": [
              "<matplotlib.axes._subplots.AxesSubplot at 0x7f2622a08390>"
            ]
          },
          "metadata": {
            "tags": []
          },
          "execution_count": 15
        },
        {
          "output_type": "display_data",
          "data": {
            "image/png": "[encoded data removed]",
            "text/plain": [
              "<Figure size 432x288 with 2 Axes>"
            ]
          },
          "metadata": {
            "tags": [],
            "needs_background": "light"
          }
        }
      ]
    },
    {
      "cell_type": "code",
      "metadata": {
        "id": "v-_-263BkuBo"
      },
      "source": [
        "from sklearn.ensemble import RandomForestClassifier\r\n",
        "\r\n",
        "regressor = RandomForestClassifier(n_estimators=20, random_state=0)\r\n",
        "regressor.fit(train_x, train_y)\r\n",
        "y_pred = regressor.predict(test_x)"
      ],
      "execution_count": 16,
      "outputs": []
    },
    {
      "cell_type": "code",
      "metadata": {
        "colab": {
          "base_uri": "https://localhost:8080/"
        },
        "id": "_dOFFk1ZuTEQ",
        "outputId": "6c321f01-0128-41a8-c140-4c1829148b64"
      },
      "source": [
        "from sklearn.metrics import classification_report, confusion_matrix, accuracy_score\r\n",
        "\r\n",
        "print(confusion_matrix(test_y, y_pred))\r\n",
        "print(classification_report(test_y, y_pred))\r\n",
        "print(accuracy_score(test_y, y_pred))"
      ],
      "execution_count": 17,
      "outputs": [
        {
          "output_type": "stream",
          "text": [
            "[[11736   246]\n",
            " [  269  1315]]\n",
            "              precision    recall  f1-score   support\n",
            "\n",
            "           0       0.98      0.98      0.98     11982\n",
            "           1       0.84      0.83      0.84      1584\n",
            "\n",
            "    accuracy                           0.96     13566\n",
            "   macro avg       0.91      0.90      0.91     13566\n",
            "weighted avg       0.96      0.96      0.96     13566\n",
            "\n",
            "0.9620374465575704\n"
          ],
          "name": "stdout"
        }
      ]
    },
    {
      "cell_type": "code",
      "metadata": {
        "colab": {
          "base_uri": "https://localhost:8080/",
          "height": 282
        },
        "id": "S31v-gWj2Gad",
        "outputId": "102aeafd-6176-40a6-a481-86ffed60fb00"
      },
      "source": [
        "cm = confusion_matrix(test_y, y_pred)\r\n",
        "sns.heatmap(cm, annot=True)"
      ],
      "execution_count": 19,
      "outputs": [
        {
          "output_type": "execute_result",
          "data": {
            "text/plain": [
              "<matplotlib.axes._subplots.AxesSubplot at 0x7f2606d63748>"
            ]
          },
          "metadata": {
            "tags": []
          },
          "execution_count": 19
        },
        {
          "output_type": "display_data",
          "data": {
            "image/png": "[encoded data removed]",
            "text/plain": [
              "<Figure size 432x288 with 2 Axes>"
            ]
          },
          "metadata": {
            "tags": [],
            "needs_background": "light"
          }
        }
      ]
    },
    {
      "cell_type": "code",
      "metadata": {
        "colab": {
          "base_uri": "https://localhost:8080/"
        },
        "id": "NTaH95_d3hvy",
        "outputId": "183d4944-02f6-4b37-987d-292fe08b4a9c"
      },
      "source": [
        "from sklearn.linear_model import SGDClassifier\r\n",
        "\r\n",
        "regressor = SGDClassifier()\r\n",
        "regressor.fit(train_x, train_y)\r\n",
        "y_pred = regressor.predict(test_x)\r\n",
        "\r\n",
        "print(confusion_matrix(test_y, y_pred))\r\n",
        "print(classification_report(test_y, y_pred))\r\n",
        "print(accuracy_score(test_y, y_pred))"
      ],
      "execution_count": 18,
      "outputs": [
        {
          "output_type": "stream",
          "text": [
            "[[11712   270]\n",
            " [  515  1069]]\n",
            "              precision    recall  f1-score   support\n",
            "\n",
            "           0       0.96      0.98      0.97     11982\n",
            "           1       0.80      0.67      0.73      1584\n",
            "\n",
            "    accuracy                           0.94     13566\n",
            "   macro avg       0.88      0.83      0.85     13566\n",
            "weighted avg       0.94      0.94      0.94     13566\n",
            "\n",
            "0.9421347486362966\n"
          ],
          "name": "stdout"
        }
      ]
    }
  ]
}