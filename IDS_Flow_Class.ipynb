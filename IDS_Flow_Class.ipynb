{
  "nbformat": 4,
  "nbformat_minor": 0,
  "metadata": {
    "colab": {
      "name": "IDS_Flow_Class",
      "provenance": [],
      "collapsed_sections": [],
      "machine_shape": "hm"
    },
    "kernelspec": {
      "name": "python3",
      "display_name": "Python 3"
    },
    "accelerator": "GPU"
  },
  "cells": [
    {
      "cell_type": "code",
      "metadata": {
        "colab": {
          "base_uri": "https://localhost:8080/"
        },
        "id": "CQ1XyjAk9NrT",
        "outputId": "8292798d-0d58-4f07-86e2-b7b5c68a4a41"
      },
      "source": [
        "from __future__ import absolute_import, division, print_function\n",
        "\n",
        "import pandas as pd\n",
        "import numpy as np\n",
        "import torch\n",
        "\n",
        "# Load the Drive helper and mount\n",
        "from google.colab import drive\n",
        "drive.mount('/content/drive', force_remount=True)"
      ],
      "execution_count": 1,
      "outputs": [
        {
          "output_type": "stream",
          "text": [
            "Mounted at /content/drive\n"
          ],
          "name": "stdout"
        }
      ]
    },
    {
      "cell_type": "code",
      "metadata": {
        "colab": {
          "base_uri": "https://localhost:8080/",
          "height": 69
        },
        "id": "8s8fgs7Ah-mB",
        "outputId": "7b654052-776b-405a-d37a-827ab02e0c41"
      },
      "source": [
        "# Load traffic data of three days for the first time\n",
        "\n",
        "'''\n",
        "import glob\n",
        "files = glob.glob(\"/content/drive/MyDrive/security_data/TrafficLabelling \" + \"/*.csv\")\n",
        "\n",
        "data_list = []\n",
        "day_list = ['M_W','T_W','F_W']\n",
        "all_data_length = 0\n",
        "\n",
        "for file in files:\n",
        "  print(file)\n",
        "  data = pd.read_csv(file, encoding='cp1252')\n",
        "  #useful_data = data[data[' Label'] != 'BENIGN']\n",
        "  data_list.append(data)\n",
        "  all_data_length += data.count()\n",
        "\n",
        "df = pd.concat(data_list, axis=0, ignore_index=True)\n",
        "'''"
      ],
      "execution_count": 2,
      "outputs": [
        {
          "output_type": "execute_result",
          "data": {
            "application/vnd.google.colaboratory.intrinsic+json": {
              "type": "string"
            },
            "text/plain": [
              "'\\nimport glob\\nfiles = glob.glob(\"/content/drive/MyDrive/security_data/TrafficLabelling \" + \"/*.csv\")\\n\\ndata_list = []\\nday_list = [\\'M_W\\',\\'T_W\\',\\'F_W\\']\\nall_data_length = 0\\n\\nfor file in files:\\n  print(file)\\n  data = pd.read_csv(file, encoding=\\'cp1252\\')\\n  #useful_data = data[data[\\' Label\\'] != \\'BENIGN\\']\\n  data_list.append(data)\\n  all_data_length += data.count()\\n\\ndf = pd.concat(data_list, axis=0, ignore_index=True)\\n'"
            ]
          },
          "metadata": {
            "tags": []
          },
          "execution_count": 2
        }
      ]
    },
    {
      "cell_type": "code",
      "metadata": {
        "id": "fK5lcuXCbEiG"
      },
      "source": [
        "# Clean traffic data and divide data into two parts with flow type for the first time\n",
        "\n",
        "'''\n",
        "df = df.replace([np.inf, -np.inf], np.nan)\n",
        "df = df.dropna()\n",
        "ab_df = df[df[' Label'] != 'BENIGN']\n",
        "nor_df = df[df[' Label'] == 'BENIGN']\n",
        "'''"
      ],
      "execution_count": 3,
      "outputs": []
    },
    {
      "cell_type": "code",
      "metadata": {
        "colab": {
          "base_uri": "https://localhost:8080/",
          "height": 86
        },
        "id": "3kzGbi2ikqr3",
        "outputId": "d1953dfa-e5bf-4f0f-c18d-3f925c1d0edf"
      },
      "source": [
        "# Average sampling the abnormal flows with different attack types for the first time\n",
        "\n",
        "'''\n",
        "IPs = ab_df[' Source IP'].unique()\n",
        "data_list = []\n",
        "\n",
        "for source in IPs:\n",
        "  print(source)\n",
        "  Data = ab_df[ab_df[' Source IP'] == source]\n",
        "  L = len(Data)\n",
        "  for i in range(0, int(L / 10)):\n",
        "    n = 10\n",
        "    locs = np.random.randint(0, L, n)\n",
        "    #locs = np.unique(locs)[:n]\n",
        "    #if len(temp_data) < n*10:\n",
        "    #  locs = np.random.randint(0, len(temp_data), n)\n",
        "    #assert len(locs) == n, \"sample() assumes n << len(series)\"\n",
        "    s = Data.take(locs)\n",
        "    data_list.append(s)\n",
        "\n",
        "re_sampled_df = pd.concat(data_list, axis=0, ignore_index=True)\n",
        "'''"
      ],
      "execution_count": 5,
      "outputs": [
        {
          "output_type": "execute_result",
          "data": {
            "application/vnd.google.colaboratory.intrinsic+json": {
              "type": "string"
            },
            "text/plain": [
              "'\\nIPs = ab_df[\\' Source IP\\'].unique()\\ndata_list = []\\n\\nfor source in IPs:\\n  print(source)\\n  Data = ab_df[ab_df[\\' Source IP\\'] == source]\\n  L = len(Data)\\n  for i in range(0, int(L / 10)):\\n    n = 10\\n    locs = np.random.randint(0, L, n)\\n    #locs = np.unique(locs)[:n]\\n    #if len(temp_data) < n*10:\\n    #  locs = np.random.randint(0, len(temp_data), n)\\n    #assert len(locs) == n, \"sample() assumes n << len(series)\"\\n    s = Data.take(locs)\\n    data_list.append(s)\\n\\nre_sampled_df = pd.concat(data_list, axis=0, ignore_index=True)\\n'"
            ]
          },
          "metadata": {
            "tags": []
          },
          "execution_count": 5
        }
      ]
    },
    {
      "cell_type": "code",
      "metadata": {
        "id": "wXIBXkfl6kHF"
      },
      "source": [
        "# Store the abnormal sampled data into remote disk for the first time\n",
        "#re_sampled_df.to_csv('/content/drive/MyDrive/security_data/resampled_ab_data.csv')"
      ],
      "execution_count": 6,
      "outputs": []
    },
    {
      "cell_type": "code",
      "metadata": {
        "id": "K7mmFRrXOu2X"
      },
      "source": [
        "resampled_ab_df = pd.read_csv('/content/drive/MyDrive/security_data/resampled_ab_data.csv', encoding='cp1252')"
      ],
      "execution_count": 7,
      "outputs": []
    },
    {
      "cell_type": "code",
      "metadata": {
        "id": "ROcHca5tyKH-"
      },
      "source": [
        "# Average sampling the normal flows for the first time\n",
        "\n",
        "'''\n",
        "dataByNode = nor_df.groupby(' Source IP')\n",
        "data_list = []\n",
        "\n",
        "counter = 0\n",
        "\n",
        "for node, group in dataByNode:\n",
        "  loop_num = int(len(group) / 30)\n",
        "  if(len(group) > 10 and loop_num > 0):\n",
        "    for i in range(0, loop_num):\n",
        "      start = np.random.randint(0, len(group) - 10)\n",
        "      dataIndex = [i for i in range(start, start + 10)] \n",
        "      s = group.take(dataIndex)\n",
        "      data_list.append(s)\n",
        "      counter += 1\n",
        "\n",
        "resampled_nor_df = pd.concat(data_list, axis=0, ignore_index=True)\n",
        "\n",
        "resampled_nor_df.to_csv('/content/drive/MyDrive/security_data/resampled_nor_data.csv')\n",
        "'''\n",
        "\n",
        "resampled_nor_df = pd.read_csv('/content/drive/MyDrive/security_data/resampled_nor_data.csv')"
      ],
      "execution_count": 8,
      "outputs": []
    },
    {
      "cell_type": "code",
      "metadata": {
        "id": "kRhOAkc0zj0O"
      },
      "source": [
        "#resampled_nor_df.to_csv('/content/drive/MyDrive/security_data/resampled_nor_data.csv')"
      ],
      "execution_count": 9,
      "outputs": []
    },
    {
      "cell_type": "code",
      "metadata": {
        "id": "VS4Y_rdDwoP8",
        "colab": {
          "base_uri": "https://localhost:8080/"
        },
        "outputId": "0dd314b5-649d-45fd-9c9b-6982c1ab2dc3"
      },
      "source": [
        "# Data cleaning and dimension reduction\n",
        "\n",
        "df = pd.concat([resampled_nor_df, resampled_ab_df])\n",
        "df = df.drop(columns=[' Source IP', ' Destination IP', ' Timestamp', 'Flow ID', 'Unnamed: 0'])\n",
        "def label_transfer(d):\n",
        "  if d != 'BENIGN':\n",
        "    return 1\n",
        "  else:\n",
        "    return 0\n",
        "\n",
        "df = df.replace([np.inf, -np.inf], np.nan)\n",
        "\n",
        "df = df.dropna()"
      ],
      "execution_count": 10,
      "outputs": [
        {
          "output_type": "stream",
          "text": [
            "1272320\n"
          ],
          "name": "stdout"
        }
      ]
    },
    {
      "cell_type": "code",
      "metadata": {
        "id": "z1MoqPIR78g2"
      },
      "source": [
        "# Convert flow label to 1/0 format\n",
        "\n",
        "df[' Label'] = df[' Label'].apply(lambda x: label_transfer(x))"
      ],
      "execution_count": 13,
      "outputs": []
    },
    {
      "cell_type": "code",
      "metadata": {
        "colab": {
          "base_uri": "https://localhost:8080/"
        },
        "id": "sTnxnID0q-YX",
        "outputId": "bff0f1c5-bf3e-4ce8-9033-5f1d0c7019ae"
      },
      "source": [
        "# Data standarlization and assemble\n",
        "\n",
        "from sklearn.model_selection import train_test_split\n",
        "from sklearn.preprocessing import StandardScaler\n",
        "\n",
        "scaler = StandardScaler()\n",
        "colunm_size = len(df.columns)\n",
        "values = df.values[:, :colunm_size - 1]\n",
        "scaler.fit(values)\n",
        "values = scaler.transform(values)\n",
        "targets = df.values[:, colunm_size - 1: colunm_size]\n",
        "\n",
        "grouped_data_x = np.zeros((int(len(values) / 10), 10, 80))\n",
        "grouped_data_y = np.zeros((int(len(targets) / 10)))\n",
        "for i in range(0, len(values), 10):\n",
        "  locs = np.arange(i, i + 10, 1)\n",
        "  token_list = values[[locs]]\n",
        "  grouped_data_x[int(i/10)] = token_list\n",
        "  grouped_data_y[int(i/10)] = targets[i]"
      ],
      "execution_count": 14,
      "outputs": [
        {
          "output_type": "stream",
          "text": [
            "/usr/local/lib/python3.6/dist-packages/ipykernel_launcher.py:15: FutureWarning: Using a non-tuple sequence for multidimensional indexing is deprecated; use `arr[tuple(seq)]` instead of `arr[seq]`. In the future this will be interpreted as an array index, `arr[np.array(seq)]`, which will result either in an error or a different result.\n",
            "  from ipykernel import kernelapp as app\n"
          ],
          "name": "stderr"
        }
      ]
    },
    {
      "cell_type": "code",
      "metadata": {
        "id": "t7U7kE1tgAAZ"
      },
      "source": [
        "# Data split for traning and test\n",
        "\n",
        "permutation = torch.randperm(len(grouped_data_x))\n",
        "train_indices = list(permutation[0: int(len(grouped_data_x) * 0.8)])\n",
        "test_indices = list(permutation[int(len(grouped_data_x) * 0.8): len(grouped_data_x)])\n",
        "\n",
        "train_x = grouped_data_x[[train_indices]]\n",
        "train_y = grouped_data_y[[train_indices]]\n",
        "\n",
        "test_x = grouped_data_x[[test_indices]]\n",
        "test_y = grouped_data_y[[test_indices]]"
      ],
      "execution_count": 15,
      "outputs": []
    },
    {
      "cell_type": "code",
      "metadata": {
        "id": "ycrYv3wUu_EE"
      },
      "source": [
        "# Convert to tensor format\n",
        "\n",
        "train_X = torch.from_numpy(train_x).type(torch.FloatTensor)\n",
        "test_X = torch.from_numpy(test_x).type(torch.FloatTensor)\n",
        "\n",
        "train_Y = torch.from_numpy(train_y).type(torch.LongTensor)\n",
        "test_Y = torch.from_numpy(test_y).type(torch.LongTensor)"
      ],
      "execution_count": 17,
      "outputs": []
    },
    {
      "cell_type": "code",
      "metadata": {
        "id": "cD3-DhC3fRlR"
      },
      "source": [
        "# Model structure\n",
        "\n",
        "import math\n",
        "import torch\n",
        "import torch.nn as nn\n",
        "\n",
        "class TransformerClassifier(nn.Module):\n",
        "\n",
        "  def __init__(self, ninp, nhead, nhid, nlayers, dropout=0.5):\n",
        "    super(TransformerClassifier, self).__init__()\n",
        "    from torch.nn import TransformerEncoder, TransformerEncoderLayer\n",
        "    self.model_type = 'Transformer'\n",
        "    encoder_layers = TransformerEncoderLayer(ninp, nhead, nhid, dropout)\n",
        "    self.transformer_encoder = TransformerEncoder(encoder_layers, nlayers)\n",
        "    self.ninp = ninp\n",
        "    self.dropout = nn.Dropout(0.3)\n",
        "    self.convs = nn.ModuleList([nn.Conv2d(1, 100, (K, ninp)) for K in [3,4,5]])\n",
        "    self.classifier = nn.Linear(ninp, 2)\n",
        "    self.fc1 = nn.Linear(len([3,4,5]) * 100, 2)\n",
        "    self.init_weights()\n",
        "    \n",
        "\n",
        "  def generate_square_subsequent_mask(self, sz):\n",
        "    mask = (torch.triu(torch.ones(sz, sz)) == 1).transpose(0, 1)\n",
        "    mask = mask.float().masked_fill(mask == 0, float('-inf')).masked_fill(mask == 1, float(0.0))\n",
        "    return mask\n",
        "\n",
        "  def init_weights(self):\n",
        "    initrange = 0.1\n",
        "    self.classifier.bias.data.zero_()\n",
        "    self.classifier.weight.data.uniform_(-initrange, initrange)\n",
        "\n",
        "  def forward2(self, src):\n",
        "    # Transformer Layer\n",
        "    src = src * math.sqrt(self.ninp)\n",
        "    x = self.transformer_encoder(src)\n",
        "    # Conv Layer\n",
        "    x = x.unsqueeze(1)  # (N, Ci, W, D)\n",
        "    x = [torch.relu(conv(x)).squeeze(3) for conv in self.convs]  # [(N, Co, W), ...] * len(Ks)\n",
        "    # Pooling Layer\n",
        "    x = [torch.max_pool1d(i, i.size(2)).squeeze(2) for i in x]  # [(N, Co), ...] * len(Ks)\n",
        "    x = torch.cat(x, 1)\n",
        "    # Fully Connected Layer\n",
        "    x = self.dropout(x)  # (N, len(Ks)*Co)\n",
        "    logit = self.fc1(x)  # (N, C)\n",
        "    return logit\n",
        "\n",
        "  def forward(self, src):\n",
        "    \n",
        "    # Non-conv Approch\n",
        "    src = src * math.sqrt(self.ninp)\n",
        "    output = self.transformer_encoder(src)\n",
        "\n",
        "    # Average Pooling Layer\n",
        "    output = output.permute(0,2,1)\n",
        "    output = torch.mean(output, -1)\n",
        "    output = self.dropout(output)\n",
        "    output = torch.relu(self.dense(output))\n",
        "    output = self.dropout(output)\n",
        "    output = self.classifier(output)\n",
        "    return output\n",
        "\n",
        "  def predict(self, x):\n",
        "\n",
        "    #Apply sigmoid to output. \n",
        "    pred = torch.sigmoid(self.forward2(x))\n",
        "    ans = []\n",
        "    \n",
        "    #Pick the class with maximum weight\n",
        "    for t in pred:\n",
        "      if t[0] > t[1]:\n",
        "        ans.append(0)\n",
        "      else:\n",
        "        ans.append(1)\n",
        "    return torch.tensor(ans)"
      ],
      "execution_count": 18,
      "outputs": []
    },
    {
      "cell_type": "code",
      "metadata": {
        "id": "EdZsbnu6goJm"
      },
      "source": [
        "import torch.optim\r\n",
        "\r\n",
        "#Initialize the model        \r\n",
        "model = TransformerClassifier(len(df.columns) - 1, 4, 1024, 3)\r\n",
        "#Define loss criterion\r\n",
        "criterion = nn.CrossEntropyLoss()\r\n",
        "#Define the optimizer\r\n",
        "optimizer = torch.optim.Adam(model.parameters(), lr=0.001)\r\n"
      ],
      "execution_count": 19,
      "outputs": []
    },
    {
      "cell_type": "code",
      "metadata": {
        "id": "IuRpR_gvgsJj",
        "colab": {
          "base_uri": "https://localhost:8080/"
        },
        "outputId": "803e07ca-900f-4e4d-e9a4-7446f48d0b7d"
      },
      "source": [
        "#Size of traning data batch\n",
        "\n",
        "BATCH_SIZE = 512\n",
        "\n",
        "#Number of epochs\n",
        "epochs = 10\n",
        "#List to store losses\n",
        "losses = []\n",
        "test_losses = []\n",
        "\n",
        "for i in range(epochs):\n",
        "  \n",
        "  loss_total = 0\n",
        "  test_lost_total = 0\n",
        "\n",
        "  permutation = torch.randperm(train_X.size()[0])\n",
        "  for j in range(0, train_X.size()[0], BATCH_SIZE):\n",
        "\n",
        "    #Clear the previous gradients\n",
        "    optimizer.zero_grad()\n",
        "\n",
        "    #Batch the data\n",
        "    indices = permutation[j: j + BATCH_SIZE]\n",
        "    batch_x, batch_y = train_X[indices], train_Y[indices]\n",
        "\n",
        "    train_y_pred = model.forward2(batch_x)\n",
        "    test_y_pred = model.forward2(test_X[0:100])\n",
        "\n",
        "    #Compute Cross entropy loss\n",
        "    loss = criterion(train_y_pred, batch_y)\n",
        "    loss_total += loss\n",
        "    test_lost = criterion(test_y_pred, test_Y[0:100])\n",
        "    test_lost_total += test_lost\n",
        "\n",
        "    #Add loss to the list\n",
        "    losses.append(loss.item())\n",
        "    test_losses.append(test_lost.item())\n",
        "    \n",
        "    loss.backward()\n",
        "    optimizer.step()\n",
        "\n",
        "  print(str(i) + 'th of ' + str(epochs) + ' Epoch' + \" | LOSS:\" + str(loss_total.data) + \" | T-LOSS:\" + str(test_lost_total.data))\n"
      ],
      "execution_count": 20,
      "outputs": [
        {
          "output_type": "stream",
          "text": [
            "0th of 10 Epoch | LOSS:tensor(13.3178) | T-LOSS:tensor(11.6917)\n",
            "1th of 10 Epoch | LOSS:tensor(3.7658) | T-LOSS:tensor(2.7254)\n",
            "2th of 10 Epoch | LOSS:tensor(3.5895) | T-LOSS:tensor(2.4531)\n",
            "3th of 10 Epoch | LOSS:tensor(2.5271) | T-LOSS:tensor(1.7438)\n",
            "4th of 10 Epoch | LOSS:tensor(2.5927) | T-LOSS:tensor(1.3984)\n",
            "5th of 10 Epoch | LOSS:tensor(1.7407) | T-LOSS:tensor(1.0109)\n",
            "6th of 10 Epoch | LOSS:tensor(1.4189) | T-LOSS:tensor(1.0807)\n",
            "7th of 10 Epoch | LOSS:tensor(1.1745) | T-LOSS:tensor(0.4855)\n",
            "8th of 10 Epoch | LOSS:tensor(1.1155) | T-LOSS:tensor(0.5344)\n",
            "9th of 10 Epoch | LOSS:tensor(1.1488) | T-LOSS:tensor(0.5973)\n"
          ],
          "name": "stdout"
        }
      ]
    },
    {
      "cell_type": "code",
      "metadata": {
        "id": "JV_8t3Ssgzq1"
      },
      "source": [
        "from sklearn import metrics\r\n",
        "\r\n",
        "results = []\r\n",
        "\r\n",
        "for i in range(0, len(test_X) - 500, 500):\r\n",
        "  ret = model.predict(test_X[i:i+500])\r\n",
        "  results.append(ret)\r\n",
        "\r\n",
        "dd = torch.cat(results)"
      ],
      "execution_count": 38,
      "outputs": []
    },
    {
      "cell_type": "code",
      "metadata": {
        "colab": {
          "base_uri": "https://localhost:8080/"
        },
        "id": "Ho7U6tZHHwER",
        "outputId": "695e7358-15f0-45df-bd57-1647181e57e8"
      },
      "source": [
        "print(metrics.accuracy_score(dd, test_Y[0:25000]))\n",
        "print(metrics.recall_score(dd, test_Y[0:25000], average='micro'))"
      ],
      "execution_count": 39,
      "outputs": [
        {
          "output_type": "stream",
          "text": [
            "torch.Size([25000])\n",
            "0.99896\n",
            "0.99896\n"
          ],
          "name": "stdout"
        }
      ]
    },
    {
      "cell_type": "code",
      "metadata": {
        "id": "2aR--QFZLC5c",
        "colab": {
          "base_uri": "https://localhost:8080/",
          "height": 268
        },
        "outputId": "c4a06f89-f72e-4ae5-a4b9-b18c8a991c92"
      },
      "source": [
        "import matplotlib.pyplot as plt\r\n",
        "%matplotlib inline\r\n",
        "plt.plot(losses)\r\n",
        "plt.plot(test_losses)\r\n",
        "plt.show()"
      ],
      "execution_count": 33,
      "outputs": [
        {
          "output_type": "display_data",
          "data": {
            "image/png": "[encoded data removed]",
            "text/plain": [
              "<Figure size 432x288 with 1 Axes>"
            ]
          },
          "metadata": {
            "tags": [],
            "needs_background": "light"
          }
        }
      ]
    },
    {
      "cell_type": "code",
      "metadata": {
        "id": "bXRYuvmYiDjV",
        "colab": {
          "base_uri": "https://localhost:8080/",
          "height": 286
        },
        "outputId": "3f7ddca8-0ae2-4516-e8a4-7abd5fddd06e"
      },
      "source": [
        "import seaborn as sns\r\n",
        "from sklearn.metrics import confusion_matrix\r\n",
        "\r\n",
        "cm = confusion_matrix(test_Y[0:25000], dd)\r\n",
        "sns.heatmap(cm, annot=True)"
      ],
      "execution_count": 40,
      "outputs": [
        {
          "output_type": "execute_result",
          "data": {
            "text/plain": [
              "<matplotlib.axes._subplots.AxesSubplot at 0x7ff71305f7f0>"
            ]
          },
          "metadata": {
            "tags": []
          },
          "execution_count": 40
        },
        {
          "output_type": "display_data",
          "data": {
            "image/png": "[encoded data removed]",
            "text/plain": [
              "<Figure size 432x288 with 2 Axes>"
            ]
          },
          "metadata": {
            "tags": [],
            "needs_background": "light"
          }
        }
      ]
    }
  ]
}